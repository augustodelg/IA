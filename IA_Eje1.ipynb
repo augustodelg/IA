{
  "nbformat": 4,
  "nbformat_minor": 0,
  "metadata": {
    "colab": {
      "name": "IA-Eje1.ipynb",
      "provenance": [],
      "collapsed_sections": [],
      "authorship_tag": "ABX9TyOdnTZ7YEj0dcuV0sEqaT+e",
      "include_colab_link": true
    },
    "kernelspec": {
      "name": "python3",
      "display_name": "Python 3"
    }
  },
  "cells": [
    {
      "cell_type": "markdown",
      "metadata": {
        "id": "view-in-github",
        "colab_type": "text"
      },
      "source": [
        "<a href=\"https://colab.research.google.com/github/augustodelg/IA/blob/Pruebas/IA_Eje1.ipynb\" target=\"_parent\"><img src=\"https://colab.research.google.com/assets/colab-badge.svg\" alt=\"Open In Colab\"/></a>"
      ]
    },
    {
      "cell_type": "code",
      "metadata": {
        "id": "N5gQdkp0OHiV",
        "colab_type": "code",
        "colab": {}
      },
      "source": [
        "import numpy as np\n",
        "import scipy as sc\n",
        "import matplotlib.pyplot as plt\n",
        "\n",
        "from sklearn.datasets import make_circles\n"
      ],
      "execution_count": 0,
      "outputs": []
    },
    {
      "cell_type": "code",
      "metadata": {
        "id": "odnaMIYsOgmC",
        "colab_type": "code",
        "colab": {
          "base_uri": "https://localhost:8080/",
          "height": 265
        },
        "outputId": "1420ca51-87f5-41d1-b1cc-05b71246d69e"
      },
      "source": [
        "#se crea el datasets\n",
        "\n",
        "n = 500\n",
        "p = 2\n",
        "\n",
        "X, Y = make_circles(n_samples=n, noise=0.05, factor=0.5)\n",
        "\n",
        "\n",
        "\n",
        "plt.scatter(X[Y==1 ,0],X[Y==1,1])\n",
        "plt.scatter(X[Y==0 ,0],X[Y==0,1])\n",
        "plt.axis('equal')\n",
        "plt.show()\n",
        "\n",
        "Y = Y[:, np.newaxis]\n"
      ],
      "execution_count": 76,
      "outputs": [
        {
          "output_type": "display_data",
          "data": {
            "image/png": "[encoded data removed]",
            "text/plain": [
              "<Figure size 432x288 with 1 Axes>"
            ]
          },
          "metadata": {
            "tags": []
          }
        }
      ]
    },
    {
      "cell_type": "code",
      "metadata": {
        "id": "cpWCpc9aS4jV",
        "colab_type": "code",
        "colab": {}
      },
      "source": [
        "#Clase de capas de neuronas\n",
        "\n",
        "class neuronal_layer():\n",
        "    def __init__(self,n_connections, n_neurons, act_fuction):\n",
        "      self.act_fuction = act_fuction\n",
        "      #inicializacion aleatoria\n",
        "      self.b =  np.random.rand(1, n_neurons) * 2  -1 # * 2 -1 Es para normalizar estandarizar la red, va de -1 a 1\n",
        "      self.w =  np.random.rand(n_connections , n_neurons) * 2  -1"
      ],
      "execution_count": 0,
      "outputs": []
    },
    {
      "cell_type": "code",
      "metadata": {
        "id": "JgqD8CeHU_0W",
        "colab_type": "code",
        "colab": {
          "base_uri": "https://localhost:8080/",
          "height": 282
        },
        "outputId": "ef01c746-c49d-487d-e3e0-852396e815da"
      },
      "source": [
        "#Funciones de activacion\n",
        "\n",
        "'''def sigmoid(x):\n",
        "    return 1.0/(1.0 + np.exp(-x))\n",
        "\n",
        "def sigmoid_derivada(x):\n",
        "    return sigmoid(x)*(1.0-sigmoid(x))\n",
        " \n",
        "def tanh(x):\n",
        "    return np.tanh(x)\n",
        " \n",
        "def tanh_derivada(x):\n",
        "    return 1.0 - x**2\n",
        "\n",
        "def relu(x):\n",
        "    return np.maximum(0, x)'''\n",
        "#reimplementacion de las funciones utilizando lambda POS 0 FUNCION POS 1 SU DERIVADA\n",
        "\n",
        "sigmoid = [ lambda x : 1.0/(1.0 + np.exp(-x)),\n",
        "            lambda x : sigmoid(x)*(1.0-sigmoid(x)) ]\n",
        "\n",
        "tanh = [ lambda x : np.tanh(x),\n",
        "         lambda x : 1.0 - x**2 ]\n",
        "\n",
        "relu = [lambda x : np.maximum(0, x),\n",
        "        lambda x : (x > 0) * 1]\n",
        "\n",
        "\n",
        "#Testeo con creacion de vectores acotados\n",
        "_x = np.linspace(-5,5,100)\n",
        "#print(relu[1](_x))\n",
        "plt.plot(_x, relu[0](_x))"
      ],
      "execution_count": 11,
      "outputs": [
        {
          "output_type": "execute_result",
          "data": {
            "text/plain": [
              "[<matplotlib.lines.Line2D at 0x7fcae3081550>]"
            ]
          },
          "metadata": {
            "tags": []
          },
          "execution_count": 11
        },
        {
          "output_type": "display_data",
          "data": {
            "image/png": "[encoded data removed]",
            "text/plain": [
              "<Figure size 432x288 with 1 Axes>"
            ]
          },
          "metadata": {
            "tags": []
          }
        }
      ]
    },
    {
      "cell_type": "code",
      "metadata": {
        "id": "eEZBjaPyYFKH",
        "colab_type": "code",
        "colab": {
          "base_uri": "https://localhost:8080/",
          "height": 54
        },
        "outputId": "d83e4b16-bf10-4b60-a339-6998c6178004"
      },
      "source": [
        "\n",
        "#Creacion de la red neuronal\n",
        "def create_nn(topology, act_fuction):\n",
        "\n",
        "  neuronal_network = []\n",
        "      # este for da tanto el INDICE COMO EL OBEJTO!\n",
        "  for l, layer in enumerate(topology[:-1]):\n",
        "\n",
        "    neuronal_network.append(neuronal_layer(topology[l], topology[l+1], act_fuction))\n",
        "\n",
        "  return neuronal_network\n",
        "\n",
        "#Testeo\n",
        "topology = [p, 4, 8, 20, 4 , 1]\n",
        "\n",
        "nn=create_nn(topology, sigmoid)\n",
        "print(nn)"
      ],
      "execution_count": 59,
      "outputs": [
        {
          "output_type": "stream",
          "text": [
            "[<__main__.neuronal_layer object at 0x7f71dd118e48>, <__main__.neuronal_layer object at 0x7f71dd118eb8>, <__main__.neuronal_layer object at 0x7f71dd118ef0>, <__main__.neuronal_layer object at 0x7f71dd118f28>, <__main__.neuronal_layer object at 0x7f71dd118f60>]\n"
          ],
          "name": "stdout"
        }
      ]
    },
    {
      "cell_type": "code",
      "metadata": {
        "id": "ngH1eAkVcdBL",
        "colab_type": "code",
        "colab": {
          "base_uri": "https://localhost:8080/",
          "height": 353
        },
        "outputId": "dd384b31-8963-4091-d579-417d358dc91a"
      },
      "source": [
        "#NOTA UTILIZACION DEL ALGORITMO del descenso del gradiente, con BACKPROPAGATION\n",
        "\n",
        "#Entrenamiento de la red\n",
        "topology = [p, 4, 8, 20, 4 , 1]\n",
        "\n",
        "neuronal_network = create_nn(topology, sigmoid)\n",
        "\n",
        "#Utilidades\n",
        "\n",
        "error_cuadratico_medio = (lambda Yp, Yr: np.mean((Yp - Yr) ** 2),\n",
        "                          lambda Yp, Yr: (Yp - Yr))#[0] FORMULA DE ERRO , [1] DERIVADA\n",
        "\n",
        "def train(neuronal_network, X, Y, error_cuadratico_medio, lr = 0.5, train=True): #Factor de multiplicacion, cantidad de actualizaciones\n",
        "  \n",
        "  out = [(None, X)] #Aca se guardan todas las salidad de cada capa\n",
        "\n",
        "  # Forward pass\n",
        "\n",
        "  for l, layer in enumerate(neuronal_network):\n",
        "\n",
        "    z = out[-1][1] @ neuronal_network[l].w + neuronal_network[l].b # out[-1][1] El [-1] es para la ULTIMA SALIDAD y el [1] es para tomar a (que es el resultado de la funcion de activacion)\n",
        "    a = neuronal_network[l].act_fuction(z)\n",
        "\n",
        "    out.append((z, a))\n",
        "\n",
        "\n",
        "  print(error_cuadratico_medio[0](out[-1][1], Y))\n",
        "\n",
        "  if train:\n",
        "\n",
        "    #Backward pass https://www.youtube.com/watch?v=U0s7Vb4y8DU\n",
        "\n",
        "    deltas = []\n",
        "\n",
        "    for l in reversed(range(0, len(neuronal_network))):\n",
        "\n",
        "      z = out[l+1][0]\n",
        "      a = out [l+1][1] # activacion\n",
        "      \n",
        "      if l == len(neuronal_network) - 1:\n",
        "        #Calcular ultima capa\n",
        "        deltas.insert(0, error_cuadratico_medio[1](a, Y) * neuronal_network[l].act_fuction(a))\n",
        "      else:  \n",
        "        #Calcular demas capas\n",
        "        deltas.insert(0, deltas[0] @ _w * neuronal_network[l].act_fuction(a))\n",
        "\n",
        "      _w = neuronal_network[l].w\n",
        "\n",
        "      # Gradient descent \n",
        "      neuronal_network[l].b = neuronal_network[l].b - np.mean(deltas[0], axis=0, keepdims=True) * lr   \n",
        "      neuronal_network[l].w = neuronal_network[l].w - out[l][1].T @ deltas[0] * lr\n",
        "\n",
        "  return out[-1][1]\n",
        "#Test\n",
        "\n",
        "train(neuronal_network, X, Y, error_cuadratico_medio, 0.5)"
      ],
      "execution_count": 77,
      "outputs": [
        {
          "output_type": "stream",
          "text": [
            "0.3025832232199611\n"
          ],
          "name": "stdout"
        },
        {
          "output_type": "error",
          "ename": "ValueError",
          "evalue": "ignored",
          "traceback": [
            "\u001b[0;31m---------------------------------------------------------------------------\u001b[0m",
            "\u001b[0;31mValueError\u001b[0m                                Traceback (most recent call last)",
            "\u001b[0;32m<ipython-input-77-44098e87b148>\u001b[0m in \u001b[0;36m<module>\u001b[0;34m()\u001b[0m\n\u001b[1;32m     51\u001b[0m \u001b[0;31m#Test\u001b[0m\u001b[0;34m\u001b[0m\u001b[0;34m\u001b[0m\u001b[0;34m\u001b[0m\u001b[0m\n\u001b[1;32m     52\u001b[0m \u001b[0;34m\u001b[0m\u001b[0m\n\u001b[0;32m---> 53\u001b[0;31m \u001b[0mtrain\u001b[0m\u001b[0;34m(\u001b[0m\u001b[0mneuronal_network\u001b[0m\u001b[0;34m,\u001b[0m \u001b[0mX\u001b[0m\u001b[0;34m,\u001b[0m \u001b[0mY\u001b[0m\u001b[0;34m,\u001b[0m \u001b[0merror_cuadratico_medio\u001b[0m\u001b[0;34m,\u001b[0m \u001b[0;36m0.5\u001b[0m\u001b[0;34m)\u001b[0m\u001b[0;34m\u001b[0m\u001b[0;34m\u001b[0m\u001b[0m\n\u001b[0m",
            "\u001b[0;32m<ipython-input-77-44098e87b148>\u001b[0m in \u001b[0;36mtrain\u001b[0;34m(neuronal_network, X, Y, error_cuadratico_medio, lr, train)\u001b[0m\n\u001b[1;32m     40\u001b[0m       \u001b[0;32melse\u001b[0m\u001b[0;34m:\u001b[0m\u001b[0;34m\u001b[0m\u001b[0;34m\u001b[0m\u001b[0m\n\u001b[1;32m     41\u001b[0m         \u001b[0;31m#Calcular demas capas\u001b[0m\u001b[0;34m\u001b[0m\u001b[0;34m\u001b[0m\u001b[0;34m\u001b[0m\u001b[0m\n\u001b[0;32m---> 42\u001b[0;31m         \u001b[0mdeltas\u001b[0m\u001b[0;34m.\u001b[0m\u001b[0minsert\u001b[0m\u001b[0;34m(\u001b[0m\u001b[0;36m0\u001b[0m\u001b[0;34m,\u001b[0m \u001b[0mdeltas\u001b[0m\u001b[0;34m[\u001b[0m\u001b[0;36m0\u001b[0m\u001b[0;34m]\u001b[0m \u001b[0;34m@\u001b[0m \u001b[0m_w\u001b[0m \u001b[0;34m*\u001b[0m \u001b[0mneuronal_network\u001b[0m\u001b[0;34m[\u001b[0m\u001b[0ml\u001b[0m\u001b[0;34m]\u001b[0m\u001b[0;34m.\u001b[0m\u001b[0mact_fuction\u001b[0m\u001b[0;34m(\u001b[0m\u001b[0ma\u001b[0m\u001b[0;34m)\u001b[0m\u001b[0;34m)\u001b[0m\u001b[0;34m\u001b[0m\u001b[0;34m\u001b[0m\u001b[0m\n\u001b[0m\u001b[1;32m     43\u001b[0m \u001b[0;34m\u001b[0m\u001b[0m\n\u001b[1;32m     44\u001b[0m       \u001b[0m_w\u001b[0m \u001b[0;34m=\u001b[0m \u001b[0mneuronal_network\u001b[0m\u001b[0;34m[\u001b[0m\u001b[0ml\u001b[0m\u001b[0;34m]\u001b[0m\u001b[0;34m.\u001b[0m\u001b[0mw\u001b[0m\u001b[0;34m\u001b[0m\u001b[0;34m\u001b[0m\u001b[0m\n",
            "\u001b[0;31mValueError\u001b[0m: matmul: Input operand 1 has a mismatch in its core dimension 0, with gufunc signature (n?,k),(k,m?)->(n?,m?) (size 4 is different from 1)"
          ]
        }
      ]
    }
  ]
}